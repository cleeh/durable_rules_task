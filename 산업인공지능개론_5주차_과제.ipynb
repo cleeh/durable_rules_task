{
  "nbformat": 4,
  "nbformat_minor": 0,
  "metadata": {
    "colab": {
      "name": "산업인공지능개론 5주차 과제.ipynb",
      "provenance": [],
      "collapsed_sections": [],
      "authorship_tag": "ABX9TyMqiWUhHXtmzJuhsHOHL0QQ",
      "include_colab_link": true
    },
    "kernelspec": {
      "name": "python3",
      "display_name": "Python 3"
    },
    "language_info": {
      "name": "python"
    }
  },
  "cells": [
    {
      "cell_type": "markdown",
      "metadata": {
        "id": "view-in-github",
        "colab_type": "text"
      },
      "source": [
        "<a href=\"https://colab.research.google.com/github/rockatoo/durable_rules_task/blob/main/%EC%82%B0%EC%97%85%EC%9D%B8%EA%B3%B5%EC%A7%80%EB%8A%A5%EA%B0%9C%EB%A1%A0_5%EC%A3%BC%EC%B0%A8_%EA%B3%BC%EC%A0%9C.ipynb\" target=\"_parent\"><img src=\"https://colab.research.google.com/assets/colab-badge.svg\" alt=\"Open In Colab\"/></a>"
      ]
    },
    {
      "cell_type": "code",
      "metadata": {
        "colab": {
          "base_uri": "https://localhost:8080/"
        },
        "id": "1rf6NK3I2ulZ",
        "outputId": "1f4de665-de63-47d5-f216-29426ce6d0e6"
      },
      "source": [
        "!pip install durable_rules"
      ],
      "execution_count": 1,
      "outputs": [
        {
          "output_type": "stream",
          "text": [
            "Requirement already satisfied: durable_rules in /usr/local/lib/python3.7/dist-packages (2.0.28)\n"
          ],
          "name": "stdout"
        }
      ]
    },
    {
      "cell_type": "code",
      "metadata": {
        "id": "qM1Oh2VZRDdB"
      },
      "source": [
        "from durable.lang import *"
      ],
      "execution_count": 2,
      "outputs": []
    },
    {
      "cell_type": "markdown",
      "metadata": {
        "id": "j4BTS7KFGX2x"
      },
      "source": [
        "주문 클래스\n",
        "\n"
      ]
    },
    {
      "cell_type": "code",
      "metadata": {
        "id": "piDVVnqiTolQ"
      },
      "source": [
        "class Product:\n",
        "  def __init__(self, name, price):\n",
        "    self.name = name\n",
        "    self.price = price\n",
        "  \n",
        "  def get_name(self):\n",
        "    return self.name\n",
        "  \n",
        "  def get_price(self):\n",
        "    return self.price\n",
        "\n",
        "class Products(Product):\n",
        "  def __init__(self, product, ea):\n",
        "    super().__init__(product.name, product.price)\n",
        "    self.ea = ea\n",
        "  \n",
        "  def get_ea(self):\n",
        "    return self.ea\n",
        "  \n",
        "  def get_total_price(self):\n",
        "    return self.price * self.ea\n",
        "\n",
        "class ProductsList:\n",
        "  def __init__(self, products_tuple):\n",
        "    self.products_tuple = list(products_tuple) if isinstance(products_tuple, (tuple, list)) else list()\n",
        "  \n",
        "  def get_total_price(self):\n",
        "    total_price = 0\n",
        "    for products in self.products_tuple:\n",
        "      total_price += products.get_total_price()\n",
        "    \n",
        "    return total_price\n",
        "\n",
        "class Member:\n",
        "  def __init__(self, name, mileage, addressee_no_list):\n",
        "    self.name = name\n",
        "    self.mileage = mileage\n",
        "    self.addressee_no_list = addressee_no_list\n",
        "  \n",
        "  def get_name(self):\n",
        "    return self.name\n",
        "\n",
        "  def get_mileage(self):\n",
        "    return self.mileage\n",
        "  \n",
        "  def get_addressee_no_list(self):\n",
        "    return self.addressee_no_list\n",
        "  \n",
        "class Addressee:\n",
        "  def __init__(self, no, name, area_no):\n",
        "    self.no = no\n",
        "    self.name = name\n",
        "    self.area_no = area_no\n",
        "  \n",
        "  def get_no(self):\n",
        "    return self.no\n",
        "  \n",
        "  def get_name(self):\n",
        "    return self.name\n",
        "  \n",
        "  def get_area_no(self):\n",
        "    return self.area_no\n",
        "\n",
        "class Order:\n",
        "  def __init__(self, products_list, payment_price, using_mileage, member, addressee):\n",
        "    self.products_list = products_list\n",
        "    self.payment_price = payment_price\n",
        "    self.using_mileage = using_mileage\n",
        "    self.member = member\n",
        "    self.addressee = addressee\n",
        "  \n",
        "  def get_products_price(self):\n",
        "    return self.products_list.get_total_price()\n",
        "  \n",
        "  def get_using_mileage(self):\n",
        "    return self.using_mileage\n",
        "  \n",
        "  def get_payment_price(self):\n",
        "    return self.payment_price\n",
        "  \n",
        "  def get_member(self):\n",
        "    return self.member\n",
        "  \n",
        "  def get_addressee(self):\n",
        "    return self.addressee"
      ],
      "execution_count": 3,
      "outputs": []
    },
    {
      "cell_type": "markdown",
      "metadata": {
        "id": "mEBRq7zAX0or"
      },
      "source": [
        "주문규칙 생성"
      ]
    },
    {
      "cell_type": "code",
      "metadata": {
        "id": "kUwrWEATR6hR"
      },
      "source": [
        "products_tuple = (\n",
        "    Products(Product('웨하스', 3900), 4),\n",
        "    Products(Product('단백질 보충제', 18900), 2),\n",
        "    Products(Product('커피믹스 60개', 8000), 3)\n",
        ")\n",
        "products_list = ProductsList(products_tuple)\n",
        "member = Member('강형욱', 6900, [10, 25, 59, 103])\n",
        "addressee = Addressee(59, '성서동 OO 아파트', 3)\n",
        "order = Order(products_list, 76900, 500, member, addressee)\n",
        "\n",
        "with ruleset('Product Validation'):\n",
        "  @when_all(+m.name)\n",
        "  def name(c):\n",
        "    print('product has name \"{}\"'.format(c.m.name))\n",
        "  \n",
        "  @when_all(m.price > 0)\n",
        "  def price(c):\n",
        "    print('product price has no probelm: {} > 0'.format(c.m.price))\n",
        "  \n",
        "  @when_all(m.ea > 0)\n",
        "  def ea(c):\n",
        "    print('product at least one ({})'.format(c.m.ea))\n",
        "  \n",
        "  @when_all(m.total_price > 0)\n",
        "  def products_price(c):\n",
        "    print('products price has no problem: {} > 0'.format(c.m.total_price))\n",
        "\n",
        "with ruleset('Member Validation'):\n",
        "  @when_all(+m.name)\n",
        "  def name(c):\n",
        "    print('member has name \"{}\"'.format(c.m.name))\n",
        "    \n",
        "  @when_all(m.mileage >= 0)\n",
        "  def mileage(c):\n",
        "    print('mileage has no error {} > 0'.format(c.m.mileage))\n",
        "    \n",
        "  @when_all(m.addressee_no_list_length > 0)\n",
        "  def addressee_no_list_length(c):\n",
        "    print('member has addressee at least 1 ({})'.format(c.m.addressee_no_list_length))\n",
        "\n",
        "with ruleset('Addressee Validation'):\n",
        "  @when_all(+m.no)\n",
        "  def addressee_no(c):\n",
        "    print('addressee has serial no: {}'.format(c.m.no))\n",
        "  \n",
        "  @when_all(+m.name)\n",
        "  def addressee_name(c):\n",
        "    print('addressee has name: {}'.format(c.m.name))\n",
        "  \n",
        "  @when_all(m.area_no > 0)\n",
        "  def addressee_no(c):\n",
        "    print('addressee matches specific area: {}'.format(c.m.area_no))\n",
        "\n",
        "with ruleset('Order Validation'):\n",
        "  @when_all(\n",
        "    (m.products_price > 0) &\n",
        "      (m.payment_price >= 0) &\n",
        "      (m.using_mileage >= 0))\n",
        "  def parameters(c):\n",
        "    print('parameters have no problem')\n",
        "\n",
        "  @when_all(m.calculated_price == m.products_price)\n",
        "  def payment(c):\n",
        "    print('payment is correct')\n",
        "    \n",
        "  @when_all(m.member_mileage >= m.using_mileage)\n",
        "  def mileage(c):\n",
        "    print('using mileage is correct')"
      ],
      "execution_count": 4,
      "outputs": []
    },
    {
      "cell_type": "markdown",
      "metadata": {
        "id": "cqhs8qhmYA7b"
      },
      "source": [
        "주문규칙 적용"
      ]
    },
    {
      "cell_type": "code",
      "metadata": {
        "colab": {
          "base_uri": "https://localhost:8080/"
        },
        "id": "mlQtps8f36zY",
        "outputId": "7f5e0832-2f69-4c9b-d1dd-938499060dae"
      },
      "source": [
        "for products in products_tuple:\n",
        "  post('Product Validation', {'name': products.get_name()})\n",
        "  post('Product Validation', {'price': products.get_price()})\n",
        "  post('Product Validation', {'ea': products.get_ea()})\n",
        "  post('Product Validation', {'total_price': products.get_total_price()})\n",
        "\n",
        "post('Member Validation', {'name': member.get_name()})\n",
        "post('Member Validation', {'mileage': member.get_mileage()})\n",
        "post('Member Validation', {'addressee_no_list_length': len(member.get_addressee_no_list())})\n",
        "\n",
        "post('Addressee Validation', {'no': addressee.get_no()})\n",
        "post('Addressee Validation', {'name': addressee.get_name()})\n",
        "post('Addressee Validation', {'area_no': addressee.get_area_no()})\n",
        "\n",
        "post('Order Validation', {\n",
        "    'products_price': order.get_products_price(),\n",
        "    'payment_price': order.get_payment_price(),\n",
        "    'using_mileage': order.get_using_mileage()\n",
        "    })\n",
        "post('Order Validation', {\n",
        "    'products_price': order.get_products_price(),\n",
        "    'calculated_price': order.get_payment_price() + order.get_using_mileage()\n",
        "    })\n",
        "post('Order Validation', {\n",
        "    'member_mileage': order.get_member().get_mileage(),\n",
        "    'using_mileage': order.get_using_mileage()\n",
        "    })"
      ],
      "execution_count": 5,
      "outputs": [
        {
          "output_type": "stream",
          "text": [
            "product has name \"웨하스\"\n",
            "product price has no probelm: 3900 > 0\n",
            "product at least one (4)\n",
            "products price has no problem: 15600 > 0\n",
            "product has name \"단백질 보충제\"\n",
            "product price has no probelm: 18900 > 0\n",
            "product at least one (2)\n",
            "products price has no problem: 37800 > 0\n",
            "product has name \"커피믹스 60개\"\n",
            "product price has no probelm: 8000 > 0\n",
            "product at least one (3)\n",
            "products price has no problem: 24000 > 0\n",
            "member has name \"강형욱\"\n",
            "mileage has no error 6900 > 0\n",
            "member has addressee at least 1 (4)\n",
            "addressee has serial no: 59\n",
            "addressee has name: 성서동 OO 아파트\n",
            "addressee matches specific area: 3\n",
            "parameters have no problem\n",
            "payment is correct\n",
            "using mileage is correct\n"
          ],
          "name": "stdout"
        },
        {
          "output_type": "execute_result",
          "data": {
            "text/plain": [
              "{'$s': 1, 'id': 'sid-0', 'sid': '0'}"
            ]
          },
          "metadata": {
            "tags": []
          },
          "execution_count": 5
        }
      ]
    },
    {
      "cell_type": "markdown",
      "metadata": {
        "id": "9dJ6w7Pzjsnr"
      },
      "source": [
        "주문유형 규칙"
      ]
    },
    {
      "cell_type": "code",
      "metadata": {
        "colab": {
          "base_uri": "https://localhost:8080/"
        },
        "id": "7zMgCr4wbeyz",
        "outputId": "1b1f7907-2eee-4f91-93ff-b9c2051e7c6c"
      },
      "source": [
        "DELIVERY_IMMEDIATE = 1 # 즉시배송\n",
        "DELIVERY_RESERVATION = 2 # 예약배송\n",
        "DELIVERY_COURIER = 3 # 택배배송\n",
        "\n",
        "with ruleset('Delivery'):\n",
        "  @when_all((m.delivery == DELIVERY_IMMEDIATE) & (-m.delivery_start_datetime) & (-m.delivery_courier_company))\n",
        "  def delivery_immeidate(c):\n",
        "    c.assert_fact({'delivery': '즉시배송', 'service': 'our company'})\n",
        "  \n",
        "  @when_all((m.delivery == DELIVERY_RESERVATION) & (+m.delivery_start_datetime) & (-m.delivery_courier_company))\n",
        "  def delivery_reservation(c):\n",
        "    c.assert_fact({'delivery': '예약배송', 'delivery_start_datetime': c.m.delivery_start_datetime, 'service': 'our company'})\n",
        "\n",
        "  @when_all((m.delivery == DELIVERY_COURIER) & (-m.delivery_start_date) & (+m.delivery_courier_company))\n",
        "  def delivery_courier(c):\n",
        "    c.assert_fact({'delivery': '택배배송', 'delivery_courier_company': c.m.delivery_courier_company, 'service': 'other company'})\n",
        "  \n",
        "  @when_all((+m.delivery) & (m.service == 'our company'))\n",
        "  def our_service(c):\n",
        "    print('자사 배송건 추가')\n",
        "    dictionary = {'delivery': c.m.delivery}\n",
        "    if c.m.delivery_start_datetime: dictionary['delivery_start_datetime'] = c.m.delivery_start_datetime\n",
        "    if c.m.delivery_courier_company: dictionary['delivery_courier_company'] = c.m.delivery_courier_company\n",
        "    c.assert_fact(dictionary)\n",
        "  \n",
        "  @when_all((+m.delivery) & (m.service == 'other company'))\n",
        "  def others_service(c):\n",
        "    print('타사 배송건 추가')\n",
        "    dictionary = {'delivery': c.m.delivery}\n",
        "    if c.m.delivery_start_datetime: dictionary['delivery_start_datetime'] = c.m.delivery_start_datetime\n",
        "    if c.m.delivery_courier_company: dictionary['delivery_courier_company'] = c.m.delivery_courier_company\n",
        "    c.assert_fact(dictionary)\n",
        "  \n",
        "  @when_all((+m.delivery) & (-m.service))\n",
        "  def output(c):\n",
        "    start_datetime = c.m.delivery_start_datetime if c.m.delivery_start_datetime else '시간: X'\n",
        "    courier_company = c.m.delivery_courier_company if c.m.delivery_courier_company else '택배회사: X'\n",
        "    print('{}이 있습니다. ({}, {})'.format(c.m.delivery, start_datetime, courier_company))\n",
        "\n",
        "post('Delivery', {'delivery': DELIVERY_IMMEDIATE})\n",
        "post('Delivery', {'delivery': DELIVERY_RESERVATION, 'delivery_start_datetime': '2021-03-30 16:00:00'})\n",
        "post('Delivery', {'delivery': DELIVERY_COURIER, 'delivery_courier_company': '라떼택배'})"
      ],
      "execution_count": 6,
      "outputs": [
        {
          "output_type": "stream",
          "text": [
            "자사 배송건 추가\n",
            "즉시배송이 있습니다. (시간: X, 택배회사: X)\n",
            "자사 배송건 추가\n",
            "예약배송이 있습니다. (2021-03-30 16:00:00, 택배회사: X)\n",
            "타사 배송건 추가\n",
            "택배배송이 있습니다. (시간: X, 라떼택배)\n"
          ],
          "name": "stdout"
        },
        {
          "output_type": "execute_result",
          "data": {
            "text/plain": [
              "{'$s': 1, 'id': 'sid-0', 'sid': '0'}"
            ]
          },
          "metadata": {
            "tags": []
          },
          "execution_count": 6
        }
      ]
    }
  ]
}