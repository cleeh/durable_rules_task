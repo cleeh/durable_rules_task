{
  "nbformat": 4,
  "nbformat_minor": 0,
  "metadata": {
    "colab": {
      "name": "산업인공지능개론 5주차 과제.ipynb",
      "provenance": [],
      "collapsed_sections": [],
      "authorship_tag": "ABX9TyNNpu1kFjL09jUGC+ViILmP",
      "include_colab_link": true
    },
    "kernelspec": {
      "name": "python3",
      "display_name": "Python 3"
    },
    "language_info": {
      "name": "python"
    }
  },
  "cells": [
    {
      "cell_type": "markdown",
      "metadata": {
        "id": "view-in-github",
        "colab_type": "text"
      },
      "source": [
        "<a href=\"https://colab.research.google.com/github/rockatoo/durable_rules_task/blob/main/%EC%82%B0%EC%97%85%EC%9D%B8%EA%B3%B5%EC%A7%80%EB%8A%A5%EA%B0%9C%EB%A1%A0_5%EC%A3%BC%EC%B0%A8_%EA%B3%BC%EC%A0%9C.ipynb\" target=\"_parent\"><img src=\"https://colab.research.google.com/assets/colab-badge.svg\" alt=\"Open In Colab\"/></a>"
      ]
    },
    {
      "cell_type": "code",
      "metadata": {
        "colab": {
          "base_uri": "https://localhost:8080/"
        },
        "id": "1rf6NK3I2ulZ",
        "outputId": "a82231f0-9506-4923-a397-b101dc39e96a"
      },
      "source": [
        "!pip install durable_rules"
      ],
      "execution_count": 1,
      "outputs": [
        {
          "output_type": "stream",
          "text": [
            "Requirement already satisfied: durable_rules in /usr/local/lib/python3.7/dist-packages (2.0.28)\n"
          ],
          "name": "stdout"
        }
      ]
    },
    {
      "cell_type": "code",
      "metadata": {
        "id": "qM1Oh2VZRDdB"
      },
      "source": [
        "from durable.lang import *"
      ],
      "execution_count": 2,
      "outputs": []
    },
    {
      "cell_type": "markdown",
      "metadata": {
        "id": "j4BTS7KFGX2x"
      },
      "source": [
        "주문 클래스\n",
        "\n"
      ]
    },
    {
      "cell_type": "code",
      "metadata": {
        "id": "piDVVnqiTolQ"
      },
      "source": [
        "class Product:\n",
        "  def __init__(self, name, price):\n",
        "    self.name = name\n",
        "    self.price = price\n",
        "  \n",
        "  def get_name(self):\n",
        "    return self.name\n",
        "  \n",
        "  def get_price(self):\n",
        "    return self.price\n",
        "\n",
        "class Products(Product):\n",
        "  def __init__(self, product, ea):\n",
        "    super().__init__(product.name, product.price)\n",
        "    self.ea = ea\n",
        "  \n",
        "  def get_total_price(self):\n",
        "    return self.price * self.ea\n",
        "\n",
        "class ProductsList:\n",
        "  def __init__(self, products_tuple):\n",
        "    self.products_tuple = list(products_tuple) if isinstance(products_tuple, (tuple, list)) else list()\n",
        "  \n",
        "  def get_total_price(self):\n",
        "    total_price = 0\n",
        "    for products in self.products_tuple:\n",
        "      total_price += products.get_total_price()\n",
        "    \n",
        "    return total_price\n",
        "\n",
        "class Order:\n",
        "  def __init__(self, products_list, payment_price, using_mileage):\n",
        "    self.products_list = products_list\n",
        "    self.payment_price = payment_price\n",
        "    self.using_mileage = using_mileage\n",
        "  \n",
        "  def get_products_price(self):\n",
        "    return self.products_list.get_total_price()\n",
        "  \n",
        "  def get_using_mileage(self):\n",
        "    return self.using_mileage\n",
        "  \n",
        "  def get_payment_price(self):\n",
        "    return self.payment_price - self.using_mileage"
      ],
      "execution_count": 3,
      "outputs": []
    },
    {
      "cell_type": "code",
      "metadata": {
        "id": "kUwrWEATR6hR"
      },
      "source": [
        "products_tuple = (\n",
        "    Products(Product('웨하스', 3900), 4),\n",
        "    Products(Product('단백질 보충제', 18900), 2),\n",
        "    Products(Product('커피믹스 60개', 8000), 3)\n",
        ")\n",
        "products_list = ProductsList(products_tuple)\n",
        "order = Order(products_list, 77400, 500)\n",
        "\n",
        "with ruleset('Order Validation'):\n",
        "    @when_all(m.calculated_price == m.products_price)\n",
        "    def payment(c):\n",
        "      print('payment is correct')\n",
        "    \n",
        "    @when_all"
      ],
      "execution_count": 4,
      "outputs": []
    },
    {
      "cell_type": "code",
      "metadata": {
        "colab": {
          "base_uri": "https://localhost:8080/"
        },
        "id": "mlQtps8f36zY",
        "outputId": "5941261c-67e5-4ad2-e29a-ca70a6745344"
      },
      "source": [
        "post('Order Validation', {\n",
        "    'products_price': order.get_products_price(),\n",
        "    'calculated_price': order.get_payment_price() + order.get_using_mileage()\n",
        "    })\n"
      ],
      "execution_count": 5,
      "outputs": [
        {
          "output_type": "stream",
          "text": [
            "payment is correct\n"
          ],
          "name": "stdout"
        },
        {
          "output_type": "execute_result",
          "data": {
            "text/plain": [
              "{'$s': 1, 'id': 'sid-0', 'sid': '0'}"
            ]
          },
          "metadata": {
            "tags": []
          },
          "execution_count": 5
        }
      ]
    }
  ]
}